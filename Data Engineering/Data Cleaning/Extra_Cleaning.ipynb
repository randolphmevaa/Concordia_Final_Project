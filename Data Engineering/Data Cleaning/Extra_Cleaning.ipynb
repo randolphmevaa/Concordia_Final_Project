{
 "cells": [
  {
   "cell_type": "markdown",
   "metadata": {},
   "source": [
    "# Some Extra Cleaning.."
   ]
  },
  {
   "cell_type": "code",
   "execution_count": null,
   "metadata": {},
   "outputs": [],
   "source": [
    "Crimes_rates = pd.read_csv('Crimes_rates')\n",
    "Crimes_rates = Crimes_rates.drop_duplicates(subset=['Jurisdiction'])\n",
    "Crimes_rates = Crimes_rates[Crimes_rates['Jurisdiction']!='County Total**, CA']"
   ]
  },
  {
   "cell_type": "code",
   "execution_count": null,
   "metadata": {},
   "outputs": [],
   "source": [
    "Jurisdiction=[]\n",
    "Latitude = []\n",
    "Longitude = []\n",
    "Levels = []\n",
    "\n",
    "for name, lat, lng in zip(df['Jurisdiction'], df['Latitude'], df['Longitude']):\n",
    "        # print(name)\n",
    "        Jurisdiction.append([(name, lat, lng, j) for j in Crimes_rates['Jurisdiction']])\n",
    "        Latitude.append([(name, la) for la in Crimes_rates['Latitude']])\n",
    "        Longitude.append([(name, lo) for lo in Crimes_rates['Longitude']])\n",
    "        Levels.append([(name, lc) for lc in Crimes_rates['Levels of crimes']])"
   ]
  },
  {
   "cell_type": "code",
   "execution_count": null,
   "metadata": {},
   "outputs": [],
   "source": [
    "df1 = pd.DataFrame([item for venue_list in Jurisdiction for item in venue_list])\n",
    "df2 = pd.DataFrame([item for venue_list in Latitude for item in venue_list])\n",
    "df3 = pd.DataFrame([item for venue_list in Longitude for item in venue_list])\n",
    "df4 = pd.DataFrame([item for venue_list in Levels for item in venue_list])\n",
    "\n",
    "df1['Jurisdiction Latitude'] = df2.drop(0, axis=1)\n",
    "df1['Jurisdiction Longitude'] = df3.drop(0, axis=1)\n",
    "df1['Levels of crimes'] = df4.drop(0, axis=1)"
   ]
  },
  {
   "cell_type": "code",
   "execution_count": null,
   "metadata": {},
   "outputs": [],
   "source": [
    "df1.columns = ['Neighborhood', \n",
    "                'Neighborhood Latitude', \n",
    "                'Neighborhood Longitude', \n",
    "                'Jurisdiction', \n",
    "                'Jurisdiction Latitude', \n",
    "                'Jurisdiction Longitude',\n",
    "                'Levels of crimes']\n",
    "los_angeles_juridiction = df1"
   ]
  },
  {
   "cell_type": "code",
   "execution_count": null,
   "metadata": {},
   "outputs": [],
   "source": [
    "los_angeles_juridiction[['Jurisdiction']][los_angeles_juridiction['Neighborhood']=='Beverly Hills, CA'].drop_duplicates()"
   ]
  },
  {
   "cell_type": "code",
   "execution_count": null,
   "metadata": {},
   "outputs": [],
   "source": [
    "los_angeles_juridiction.rename(columns={'Neighborhood Latitude':'neigh_lat'}, inplace=True)\n",
    "los_angeles_juridiction.rename(columns={'Neighborhood Longitude':'neigh_lo'}, inplace=True)\n",
    "los_angeles_juridiction.rename(columns={'Jurisdiction Latitude':'jur_lat'}, inplace=True)\n",
    "los_angeles_juridiction.rename(columns={'Jurisdiction Longitude':'jur_lo'}, inplace=True)\n",
    "los_angeles_juridiction"
   ]
  },
  {
   "cell_type": "code",
   "execution_count": null,
   "metadata": {},
   "outputs": [],
   "source": [
    "los_angeles_juridiction['neigh_coor'] = list(zip(los_angeles_juridiction.neigh_lat,los_angeles_juridiction.neigh_lo))\n",
    "los_angeles_juridiction['jur_coor'] = list(zip(los_angeles_juridiction.jur_lat,los_angeles_juridiction.jur_lo))\n",
    "los_angeles_juridiction.head()"
   ]
  },
  {
   "cell_type": "code",
   "execution_count": null,
   "metadata": {},
   "outputs": [],
   "source": [
    "import pandas as pd\n",
    "import numpy as np\n",
    "import haversine as hs\n",
    "import folium "
   ]
  },
  {
   "cell_type": "code",
   "execution_count": null,
   "metadata": {},
   "outputs": [],
   "source": [
    "def distance_from(loc1,loc2): \n",
    "    dist=hs.haversine(loc1,loc2)\n",
    "    return round(dist,2)"
   ]
  },
  {
   "cell_type": "code",
   "execution_count": null,
   "metadata": {},
   "outputs": [],
   "source": [
    "distance = []\n",
    "for i in range(len(los_angeles_juridiction['neigh_coor'])):\n",
    "    distance.append(distance_from(los_angeles_juridiction['neigh_coor'][i],los_angeles_juridiction['jur_coor'][i]))\n",
    "\n",
    "los_angeles_juridiction['Distance'] = distance"
   ]
  },
  {
   "cell_type": "code",
   "execution_count": null,
   "metadata": {},
   "outputs": [],
   "source": [
    "distance_la = los_angeles_juridiction[['Neighborhood','Jurisdiction','Distance']]"
   ]
  },
  {
   "cell_type": "code",
   "execution_count": null,
   "metadata": {},
   "outputs": [],
   "source": []
  },
  {
   "cell_type": "code",
   "execution_count": null,
   "metadata": {},
   "outputs": [],
   "source": []
  },
  {
   "cell_type": "code",
   "execution_count": 57,
   "metadata": {},
   "outputs": [],
   "source": [
    "import pandas as pd\n",
    "\n",
    "distance_la = pd.read_csv('distance_la')\n",
    "distance_la = distance_la.drop('Unnamed: 0', axis=1).reset_index(drop=True)"
   ]
  },
  {
   "cell_type": "code",
   "execution_count": 19,
   "metadata": {},
   "outputs": [
    {
     "data": {
      "text/plain": [
       "array(['Beverly Hills, CA', 'Los Angeles, CA', 'West Hollywood, CA',\n",
       "       'Granada Hills, CA', 'Wilmington, CA', 'Tujunga, CA',\n",
       "       'Studio City, CA', 'Sunland, CA', 'Sherman Oaks, CA',\n",
       "       'Woodland Hills, CA', 'Canoga Park, CA', 'Chatsworth, CA',\n",
       "       'Pacific Palisades, CA', 'Winnetka, CA', 'Tarzana, CA',\n",
       "       'Northridge, CA', 'Sun Valley, CA', 'Van Nuys, CA',\n",
       "       'Valley Village, CA', 'North Hollywood, CA', 'Playa Del Rey, CA'],\n",
       "      dtype=object)"
      ]
     },
     "execution_count": 19,
     "metadata": {},
     "output_type": "execute_result"
    }
   ],
   "source": []
  },
  {
   "cell_type": "code",
   "execution_count": 58,
   "metadata": {},
   "outputs": [
    {
     "data": {
      "text/html": [
       "<div>\n",
       "<style scoped>\n",
       "    .dataframe tbody tr th:only-of-type {\n",
       "        vertical-align: middle;\n",
       "    }\n",
       "\n",
       "    .dataframe tbody tr th {\n",
       "        vertical-align: top;\n",
       "    }\n",
       "\n",
       "    .dataframe thead th {\n",
       "        text-align: right;\n",
       "    }\n",
       "</style>\n",
       "<table border=\"1\" class=\"dataframe\">\n",
       "  <thead>\n",
       "    <tr style=\"text-align: right;\">\n",
       "      <th></th>\n",
       "      <th>Neighborhood</th>\n",
       "      <th>Jurisdiction</th>\n",
       "      <th>Distance</th>\n",
       "    </tr>\n",
       "  </thead>\n",
       "  <tbody>\n",
       "    <tr>\n",
       "      <th>1773</th>\n",
       "      <td>Beverly Hills, CA</td>\n",
       "      <td>Beverly Hills, CA</td>\n",
       "      <td>0.00</td>\n",
       "    </tr>\n",
       "    <tr>\n",
       "      <th>8986</th>\n",
       "      <td>Beverly Hills, CA</td>\n",
       "      <td>West Hollywood, CA</td>\n",
       "      <td>3.54</td>\n",
       "    </tr>\n",
       "    <tr>\n",
       "      <th>8985</th>\n",
       "      <td>Beverly Hills, CA</td>\n",
       "      <td>Culver City, CA</td>\n",
       "      <td>5.40</td>\n",
       "    </tr>\n",
       "    <tr>\n",
       "      <th>12</th>\n",
       "      <td>Beverly Hills, CA</td>\n",
       "      <td>Santa Monica, CA</td>\n",
       "      <td>10.37</td>\n",
       "    </tr>\n",
       "    <tr>\n",
       "      <th>1781</th>\n",
       "      <td>Beverly Hills, CA</td>\n",
       "      <td>Inglewood, CA</td>\n",
       "      <td>13.23</td>\n",
       "    </tr>\n",
       "    <tr>\n",
       "      <th>...</th>\n",
       "      <td>...</td>\n",
       "      <td>...</td>\n",
       "      <td>...</td>\n",
       "    </tr>\n",
       "    <tr>\n",
       "      <th>599</th>\n",
       "      <td>Beverly Hills, CA</td>\n",
       "      <td>Palmdale, CA</td>\n",
       "      <td>62.20</td>\n",
       "    </tr>\n",
       "    <tr>\n",
       "      <th>1808</th>\n",
       "      <td>Beverly Hills, CA</td>\n",
       "      <td>Claremont, CA</td>\n",
       "      <td>62.38</td>\n",
       "    </tr>\n",
       "    <tr>\n",
       "      <th>9043</th>\n",
       "      <td>Beverly Hills, CA</td>\n",
       "      <td>Walnut, CA</td>\n",
       "      <td>68.68</td>\n",
       "    </tr>\n",
       "    <tr>\n",
       "      <th>1764</th>\n",
       "      <td>Beverly Hills, CA</td>\n",
       "      <td>Lancaster, CA</td>\n",
       "      <td>73.83</td>\n",
       "    </tr>\n",
       "    <tr>\n",
       "      <th>1747</th>\n",
       "      <td>Beverly Hills, CA</td>\n",
       "      <td>Avalon, CA</td>\n",
       "      <td>81.14</td>\n",
       "    </tr>\n",
       "  </tbody>\n",
       "</table>\n",
       "<p>88 rows × 3 columns</p>\n",
       "</div>"
      ],
      "text/plain": [
       "           Neighborhood        Jurisdiction  Distance\n",
       "1773  Beverly Hills, CA   Beverly Hills, CA      0.00\n",
       "8986  Beverly Hills, CA  West Hollywood, CA      3.54\n",
       "8985  Beverly Hills, CA     Culver City, CA      5.40\n",
       "12    Beverly Hills, CA    Santa Monica, CA     10.37\n",
       "1781  Beverly Hills, CA       Inglewood, CA     13.23\n",
       "...                 ...                 ...       ...\n",
       "599   Beverly Hills, CA        Palmdale, CA     62.20\n",
       "1808  Beverly Hills, CA       Claremont, CA     62.38\n",
       "9043  Beverly Hills, CA          Walnut, CA     68.68\n",
       "1764  Beverly Hills, CA       Lancaster, CA     73.83\n",
       "1747  Beverly Hills, CA          Avalon, CA     81.14\n",
       "\n",
       "[88 rows x 3 columns]"
      ]
     },
     "execution_count": 58,
     "metadata": {},
     "output_type": "execute_result"
    }
   ],
   "source": [
    "distance_la[distance_la['Neighborhood']=='Beverly Hills, CA'].sort_values('Distance', ascending=True).drop_duplicates(subset=['Jurisdiction'])"
   ]
  },
  {
   "cell_type": "code",
   "execution_count": 60,
   "metadata": {},
   "outputs": [
    {
     "data": {
      "text/plain": [
       "array(['Beverly Hills, CA', 'Los Angeles, CA', 'West Hollywood, CA',\n",
       "       'Granada Hills, CA', 'Wilmington, CA', 'Tujunga, CA',\n",
       "       'Studio City, CA', 'Sunland, CA', 'Sherman Oaks, CA',\n",
       "       'Woodland Hills, CA', 'Canoga Park, CA', 'Chatsworth, CA',\n",
       "       'Pacific Palisades, CA', 'Winnetka, CA', 'Tarzana, CA',\n",
       "       'Northridge, CA', 'Sun Valley, CA', 'Van Nuys, CA',\n",
       "       'Valley Village, CA', 'North Hollywood, CA', 'Playa Del Rey, CA'],\n",
       "      dtype=object)"
      ]
     },
     "execution_count": 60,
     "metadata": {},
     "output_type": "execute_result"
    }
   ],
   "source": [
    "distance_la['Neighborhood'].unique()"
   ]
  },
  {
   "cell_type": "code",
   "execution_count": 61,
   "metadata": {},
   "outputs": [],
   "source": [
    "distance_la[distance_la['Neighborhood']=='Beverly Hills, CA'] = distance_la[distance_la['Neighborhood']=='Beverly Hills, CA'].drop_duplicates(subset=['Jurisdiction']).sort_values('Distance', ascending=True)\n",
    "distance_la[distance_la['Neighborhood']=='Los Angeles, CA'] = distance_la[distance_la['Neighborhood']=='Los Angeles, CA'].sort_values('Distance', ascending=True).drop_duplicates(subset=['Jurisdiction'])\n",
    "distance_la[distance_la['Neighborhood']=='West Hollywood, CA']= distance_la[distance_la['Neighborhood']=='West Hollywood, CA'].sort_values('Distance', ascending=True).drop_duplicates(subset=['Jurisdiction'])\n",
    "distance_la[distance_la['Neighborhood']=='Granada Hills, CA'] = distance_la[distance_la['Neighborhood']=='Granada Hills, CA'].sort_values('Distance', ascending=True).drop_duplicates(subset=['Jurisdiction'])\n",
    "distance_la[distance_la['Neighborhood']=='Wilmington, CA'] = distance_la[distance_la['Neighborhood']=='Wilmington, CA'].sort_values('Distance', ascending=True).drop_duplicates(subset=['Jurisdiction'])\n",
    "\n",
    "distance_la[distance_la['Neighborhood']=='Tujunga, CA'] = distance_la[distance_la['Neighborhood']=='Tujunga, CA'].sort_values('Distance', ascending=True).drop_duplicates(subset=['Jurisdiction'])\n",
    "distance_la[distance_la['Neighborhood']=='Studio City, CA'] = distance_la[distance_la['Neighborhood']=='Studio City, CA'].sort_values('Distance', ascending=True).drop_duplicates(subset=['Jurisdiction'])\n",
    "distance_la[distance_la['Neighborhood']=='Sunland, CA'] = distance_la[distance_la['Neighborhood']=='Sunland, CA'].sort_values('Distance', ascending=True).drop_duplicates(subset=['Jurisdiction'])\n",
    "distance_la[distance_la['Neighborhood']=='Sherman Oaks, CA'] = distance_la[distance_la['Neighborhood']=='Sherman Oaks, CA'].sort_values('Distance', ascending=True).drop_duplicates(subset=['Jurisdiction'])\n",
    "distance_la[distance_la['Neighborhood']=='Woodland Hills, CA'] = distance_la[distance_la['Neighborhood']=='Woodland Hills, CA'].sort_values('Distance', ascending=True).drop_duplicates(subset=['Jurisdiction'])\n",
    "\n",
    "distance_la[distance_la['Neighborhood']=='Canoga Park, CA'] = distance_la[distance_la['Neighborhood']=='Canoga Park, CA'].sort_values('Distance', ascending=True).drop_duplicates(subset=['Jurisdiction'])\n",
    "distance_la[distance_la['Neighborhood']=='Pacific Palisades, CA'] = distance_la[distance_la['Neighborhood']=='Pacific Palisades, CA'].sort_values('Distance', ascending=True).drop_duplicates(subset=['Jurisdiction'])\n",
    "distance_la[distance_la['Neighborhood']=='Winnetka, CA'] = distance_la[distance_la['Neighborhood']=='Winnetka, CA'].sort_values('Distance', ascending=True).drop_duplicates(subset=['Jurisdiction'])\n",
    "distance_la[distance_la['Neighborhood']=='Tarzana, CA'] = distance_la[distance_la['Neighborhood']=='Tarzana, CA'].sort_values('Distance', ascending=True).drop_duplicates(subset=['Jurisdiction'])\n",
    "distance_la[distance_la['Neighborhood']=='Northridge, CA']= distance_la[distance_la['Neighborhood']=='Northridge, CA'].sort_values('Distance', ascending=True).drop_duplicates(subset=['Jurisdiction'])\n",
    "\n",
    "distance_la[distance_la['Neighborhood']=='Sun Valley, CA'] = distance_la[distance_la['Neighborhood']=='Sun Valley, CA'].sort_values('Distance', ascending=True).drop_duplicates(subset=['Jurisdiction'])\n",
    "distance_la[distance_la['Neighborhood']=='Van Nuys, CA']= distance_la[distance_la['Neighborhood']=='Van Nuys, CA'].sort_values('Distance', ascending=True).drop_duplicates(subset=['Jurisdiction'])\n",
    "distance_la[distance_la['Neighborhood']=='Valley Village, CA'] = distance_la[distance_la['Neighborhood']=='Valley Village, CA'].sort_values('Distance', ascending=True).drop_duplicates(subset=['Jurisdiction'])\n",
    "distance_la[distance_la['Neighborhood']=='North Hollywood, CA'] = distance_la[distance_la['Neighborhood']=='North Hollywood, CA'].sort_values('Distance', ascending=True).drop_duplicates(subset=['Jurisdiction'])\n",
    "distance_la[distance_la['Neighborhood']=='Playa Del Rey, CA'] = distance_la[distance_la['Neighborhood']=='Playa Del Rey, CA'].sort_values('Distance', ascending=True).drop_duplicates(subset=['Jurisdiction'])"
   ]
  },
  {
   "cell_type": "code",
   "execution_count": 62,
   "metadata": {},
   "outputs": [
    {
     "data": {
      "text/html": [
       "<div>\n",
       "<style scoped>\n",
       "    .dataframe tbody tr th:only-of-type {\n",
       "        vertical-align: middle;\n",
       "    }\n",
       "\n",
       "    .dataframe tbody tr th {\n",
       "        vertical-align: top;\n",
       "    }\n",
       "\n",
       "    .dataframe thead th {\n",
       "        text-align: right;\n",
       "    }\n",
       "</style>\n",
       "<table border=\"1\" class=\"dataframe\">\n",
       "  <thead>\n",
       "    <tr style=\"text-align: right;\">\n",
       "      <th></th>\n",
       "      <th>Neighborhood</th>\n",
       "      <th>Jurisdiction</th>\n",
       "      <th>Distance</th>\n",
       "    </tr>\n",
       "  </thead>\n",
       "  <tbody>\n",
       "    <tr>\n",
       "      <th>13</th>\n",
       "      <td>Beverly Hills, CA</td>\n",
       "      <td>Beverly Hills, CA</td>\n",
       "      <td>0.00</td>\n",
       "    </tr>\n",
       "    <tr>\n",
       "      <th>10</th>\n",
       "      <td>Beverly Hills, CA</td>\n",
       "      <td>West Hollywood, CA</td>\n",
       "      <td>3.54</td>\n",
       "    </tr>\n",
       "    <tr>\n",
       "      <th>9</th>\n",
       "      <td>Beverly Hills, CA</td>\n",
       "      <td>Culver City, CA</td>\n",
       "      <td>5.40</td>\n",
       "    </tr>\n",
       "    <tr>\n",
       "      <th>12</th>\n",
       "      <td>Beverly Hills, CA</td>\n",
       "      <td>Santa Monica, CA</td>\n",
       "      <td>10.37</td>\n",
       "    </tr>\n",
       "    <tr>\n",
       "      <th>21</th>\n",
       "      <td>Beverly Hills, CA</td>\n",
       "      <td>Inglewood, CA</td>\n",
       "      <td>13.23</td>\n",
       "    </tr>\n",
       "    <tr>\n",
       "      <th>...</th>\n",
       "      <td>...</td>\n",
       "      <td>...</td>\n",
       "      <td>...</td>\n",
       "    </tr>\n",
       "    <tr>\n",
       "      <th>71</th>\n",
       "      <td>Beverly Hills, CA</td>\n",
       "      <td>Palmdale, CA</td>\n",
       "      <td>62.20</td>\n",
       "    </tr>\n",
       "    <tr>\n",
       "      <th>48</th>\n",
       "      <td>Beverly Hills, CA</td>\n",
       "      <td>Claremont, CA</td>\n",
       "      <td>62.38</td>\n",
       "    </tr>\n",
       "    <tr>\n",
       "      <th>67</th>\n",
       "      <td>Beverly Hills, CA</td>\n",
       "      <td>Walnut, CA</td>\n",
       "      <td>68.68</td>\n",
       "    </tr>\n",
       "    <tr>\n",
       "      <th>4</th>\n",
       "      <td>Beverly Hills, CA</td>\n",
       "      <td>Lancaster, CA</td>\n",
       "      <td>73.83</td>\n",
       "    </tr>\n",
       "    <tr>\n",
       "      <th>75</th>\n",
       "      <td>Beverly Hills, CA</td>\n",
       "      <td>Avalon, CA</td>\n",
       "      <td>81.14</td>\n",
       "    </tr>\n",
       "  </tbody>\n",
       "</table>\n",
       "<p>88 rows × 3 columns</p>\n",
       "</div>"
      ],
      "text/plain": [
       "         Neighborhood        Jurisdiction  Distance\n",
       "13  Beverly Hills, CA   Beverly Hills, CA      0.00\n",
       "10  Beverly Hills, CA  West Hollywood, CA      3.54\n",
       "9   Beverly Hills, CA     Culver City, CA      5.40\n",
       "12  Beverly Hills, CA    Santa Monica, CA     10.37\n",
       "21  Beverly Hills, CA       Inglewood, CA     13.23\n",
       "..                ...                 ...       ...\n",
       "71  Beverly Hills, CA        Palmdale, CA     62.20\n",
       "48  Beverly Hills, CA       Claremont, CA     62.38\n",
       "67  Beverly Hills, CA          Walnut, CA     68.68\n",
       "4   Beverly Hills, CA       Lancaster, CA     73.83\n",
       "75  Beverly Hills, CA          Avalon, CA     81.14\n",
       "\n",
       "[88 rows x 3 columns]"
      ]
     },
     "execution_count": 62,
     "metadata": {},
     "output_type": "execute_result"
    }
   ],
   "source": [
    "distance_la[distance_la['Neighborhood']=='Beverly Hills, CA'].drop_duplicates(subset=['Jurisdiction']).sort_values('Distance', ascending=True)"
   ]
  },
  {
   "cell_type": "code",
   "execution_count": 63,
   "metadata": {},
   "outputs": [],
   "source": [
    "distance_la = distance_la.dropna().reset_index(drop=True)"
   ]
  },
  {
   "cell_type": "code",
   "execution_count": 65,
   "metadata": {},
   "outputs": [],
   "source": [
    "distance_la.to_csv('distance_la')"
   ]
  }
 ],
 "metadata": {
  "kernelspec": {
   "display_name": "Python 3.9.13",
   "language": "python",
   "name": "python3"
  },
  "language_info": {
   "codemirror_mode": {
    "name": "ipython",
    "version": 3
   },
   "file_extension": ".py",
   "mimetype": "text/x-python",
   "name": "python",
   "nbconvert_exporter": "python",
   "pygments_lexer": "ipython3",
   "version": "3.9.13"
  },
  "orig_nbformat": 4,
  "vscode": {
   "interpreter": {
    "hash": "7bc4214cf7d63b31c64debd7e73994cd23919948a9f13c32d95351666e335118"
   }
  }
 },
 "nbformat": 4,
 "nbformat_minor": 2
}
